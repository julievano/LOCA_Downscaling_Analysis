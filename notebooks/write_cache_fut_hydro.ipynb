{
 "cells": [
  {
   "cell_type": "markdown",
   "metadata": {},
   "source": [
    "# Write cache for future hydro"
   ]
  },
  {
   "cell_type": "code",
   "execution_count": 1,
   "metadata": {},
   "outputs": [
    {
     "name": "stdout",
     "output_type": "stream",
     "text": [
      "Last executed: 2019-08-07 15:33:19.086524 by jvano on casper11\n"
     ]
    }
   ],
   "source": [
    "from loca import print_date\n",
    "print_date()"
   ]
  },
  {
   "cell_type": "markdown",
   "metadata": {},
   "source": [
    "# Imports and Options"
   ]
  },
  {
   "cell_type": "code",
   "execution_count": 2,
   "metadata": {},
   "outputs": [],
   "source": [
    "%matplotlib inline\n",
    "\n",
    "%load_ext autoreload\n",
    "%autoreload 2\n",
    "\n",
    "import os\n",
    "from mpl_toolkits.basemap import Basemap\n",
    "import matplotlib.pyplot as plt\n",
    "import cmocean\n",
    "import cartopy.crs as ccrs\n",
    "import cartopy.feature as cfeature\n",
    "\n",
    "import xarray as xr\n",
    "\n",
    "from loca.data_catalog import load_monthly_cmip_hydro_datasets, resample_monthly_data\n",
    "from loca.utils import calc_change\n",
    "\n",
    "\n",
    "#cache is written in script \"write_cache.ipynb\"  TODO\n",
    "read_cache = True\n",
    "# cache_dir = os.environ['TMPDIR']\n",
    "cache_dir = '/glade/u/home/jvano/scratch/'\n",
    "\n",
    "\n",
    "\n",
    "# TODO still need to clean this up, possibly add others - or migrate this script to another place.  \n",
    "# LIke that have ability to do individual models\n",
    "\n",
    "# CACHED:\n",
    "# models = ['ACCESS1-0', 'CanESM2']\n",
    "# models = ['MIROC5']\n",
    "# models = ['MRI-CGCM3']\n",
    "# models = ['bcc-csm1-1']\n",
    "# models = ['bcc-csm1-1-m']\n",
    "# models = ['CCSM4']\n",
    "# models = ['CESM1-BGC']\n",
    "# models = ['CMCC-CM']\n",
    "# models = ['GISS-E2-R']\n",
    "# models = ['HadGEM2-CC']\n",
    "# models = ['HadGEM2-ES', 'inmcm4']\n",
    "# models = ['IPSL-CM5A-MR']\n",
    "# models = ['MIROC-ESM', 'MIROC-ESM-CHEM']\n",
    "# models = ['MPI-ESM-LR']\n",
    "# models = ['MPI-ESM-MR']\n",
    "# models = ['GFDL-ESM2G'] \n",
    "# models = ['NorESM1-M']\n",
    "# models = ['MIROC5', 'MRI-CGCM3', 'bcc-csm1-1', 'bcc-csm1-1-m', 'CCSM4']\n",
    "# models = ['CESM1-BGC', 'CESM1-CAM5', 'CMCC-CM', 'GISS-E2-R', 'HadGEM2-CC','HadGEM2-ES', 'inmcm4']\n",
    "# models = ['IPSL-CM5A-MR']\n",
    "# models = ['MIROC-ESM', 'MIROC-ESM-CHEM']\n",
    "# models = ['MPI-ESM-LR', 'MPI-ESM-MR', 'NorESM1-M']\n",
    "# models = ['GFDL-ESM2G']\n",
    "# models = ['CNRM-CM5']\n",
    "# models = ['CSIRO-Mk3-6-0']\n",
    "# models = ['GFDL-ESM2M'] \n",
    "# models = ['GFDL-CM3'] \n",
    "# models = ['HadGEM2-AO']\n",
    "\n",
    "# list of 25, without issues:\n",
    "models = ['ACCESS1-0', 'CanESM2', 'MIROC5', 'MRI-CGCM3', 'bcc-csm1-1', 'bcc-csm1-1-m', 'CCSM4',\n",
    "          'CESM1-BGC', 'CMCC-CM', 'GISS-E2-R', 'HadGEM2-CC', 'HadGEM2-ES', 'inmcm4', 'IPSL-CM5A-MR',\n",
    "          'MIROC-ESM', 'MIROC-ESM-CHEM', 'MPI-ESM-LR', 'MPI-ESM-MR', 'NorESM1-M', 'GFDL-ESM2G', \n",
    "          'CNRM-CM5', 'CSIRO-Mk3-6-0', 'GFDL-ESM2M','GFDL-CM3', 'HadGEM2-AO']\n",
    "\n",
    "models = ['ACCESS1-0', 'CanESM2']"
   ]
  },
  {
   "cell_type": "code",
   "execution_count": 3,
   "metadata": {},
   "outputs": [
    {
     "data": {
      "text/html": [
       "<table style=\"border: 2px solid white;\">\n",
       "<tr>\n",
       "<td style=\"vertical-align: top; border: 0px solid white\">\n",
       "<h3>Client</h3>\n",
       "<ul>\n",
       "  <li><b>Scheduler: </b>tcp://128.117.181.217:42734\n",
       "  <li><b>Dashboard: </b><a href='proxy/46697/status' target='_blank'>proxy/46697/status</a>\n",
       "</ul>\n",
       "</td>\n",
       "<td style=\"vertical-align: top; border: 0px solid white\">\n",
       "<h3>Cluster</h3>\n",
       "<ul>\n",
       "  <li><b>Workers: </b>2</li>\n",
       "  <li><b>Cores: </b>4</li>\n",
       "  <li><b>Memory: </b>8.00 GB</li>\n",
       "</ul>\n",
       "</td>\n",
       "</tr>\n",
       "</table>"
      ],
      "text/plain": [
       "<Client: scheduler='tcp://128.117.181.217:42734' processes=2 cores=4>"
      ]
     },
     "execution_count": 3,
     "metadata": {},
     "output_type": "execute_result"
    }
   ],
   "source": [
    "from dask.distributed import Client\n",
    "client = Client(scheduler_file=os.path.join(os.environ['HOME'], 'scheduler_file.json'))\n",
    "client"
   ]
  },
  {
   "cell_type": "markdown",
   "metadata": {},
   "source": [
    "# Load Data"
   ]
  },
  {
   "cell_type": "code",
   "execution_count": 4,
   "metadata": {},
   "outputs": [],
   "source": [
    "write_cache = True  \n",
    "\n",
    "if write_cache:\n",
    "    xr.set_options(file_cache_maxsize=12000)\n",
    "    hist_data = load_monthly_cmip_hydro_datasets('historical', models=models, autoclose=False, parallel=True)\n",
    "    rcp4_data = load_monthly_cmip_hydro_datasets('rcp45', models=models, autoclose=False, parallel=True)\n",
    "    rcp8_data = load_monthly_cmip_hydro_datasets('rcp85', models=models, autoclose=False, parallel=True)"
   ]
  },
  {
   "cell_type": "code",
   "execution_count": 5,
   "metadata": {},
   "outputs": [],
   "source": [
    "if write_cache:\n",
    "    for key, ds in hist_data.items():\n",
    "        for gcm in models:\n",
    "            ds.sel(gcm=gcm).load().to_netcdf(os.path.join(os.environ['TMPDIR'], f'monthly_cmip_hydro_hist.{key}_{gcm}.nc'))\n",
    "    for key, ds in rcp4_data.items():\n",
    "        for gcm in models:\n",
    "            ds.sel(gcm=gcm).load().to_netcdf(os.path.join(os.environ['TMPDIR'], f'monthly_cmip_hydro_rcp4.{key}_{gcm}.nc'))\n",
    "    for key, ds in rcp8_data.items():\n",
    "        for gcm in models:\n",
    "            ds.sel(gcm=gcm).load().to_netcdf(os.path.join(os.environ['TMPDIR'], f'monthly_cmip_hydro_rcp8.{key}_{gcm}.nc'))"
   ]
  },
  {
   "cell_type": "code",
   "execution_count": 6,
   "metadata": {},
   "outputs": [
    {
     "ename": "OSError",
     "evalue": "no files to open",
     "output_type": "error",
     "traceback": [
      "\u001b[0;31m---------------------------------------------------------------------------\u001b[0m",
      "\u001b[0;31mOSError\u001b[0m                                   Traceback (most recent call last)",
      "\u001b[0;32m<ipython-input-6-d410d8bc8e10>\u001b[0m in \u001b[0;36m<module>\u001b[0;34m\u001b[0m\n\u001b[1;32m      7\u001b[0m         hist_data[key] = xr.open_mfdataset(\n\u001b[1;32m      8\u001b[0m             \u001b[0mos\u001b[0m\u001b[0;34m.\u001b[0m\u001b[0mpath\u001b[0m\u001b[0;34m.\u001b[0m\u001b[0mjoin\u001b[0m\u001b[0;34m(\u001b[0m\u001b[0mos\u001b[0m\u001b[0;34m.\u001b[0m\u001b[0menviron\u001b[0m\u001b[0;34m[\u001b[0m\u001b[0;34m'TMPDIR'\u001b[0m\u001b[0;34m]\u001b[0m\u001b[0;34m,\u001b[0m \u001b[0;34mf'monthly_cmip_hydro_hist.{key}_*.nc'\u001b[0m\u001b[0;34m)\u001b[0m\u001b[0;34m,\u001b[0m\u001b[0;34m\u001b[0m\u001b[0;34m\u001b[0m\u001b[0m\n\u001b[0;32m----> 9\u001b[0;31m             concat_dim='gcm', chunks={'time': 72})\n\u001b[0m\u001b[1;32m     10\u001b[0m         rcp4_data[key] = xr.open_mfdataset(\n\u001b[1;32m     11\u001b[0m             \u001b[0mos\u001b[0m\u001b[0;34m.\u001b[0m\u001b[0mpath\u001b[0m\u001b[0;34m.\u001b[0m\u001b[0mjoin\u001b[0m\u001b[0;34m(\u001b[0m\u001b[0mos\u001b[0m\u001b[0;34m.\u001b[0m\u001b[0menviron\u001b[0m\u001b[0;34m[\u001b[0m\u001b[0;34m'TMPDIR'\u001b[0m\u001b[0;34m]\u001b[0m\u001b[0;34m,\u001b[0m \u001b[0;34mf'monthly_cmip_hydro_rcp4.{key}_*.nc'\u001b[0m\u001b[0;34m)\u001b[0m\u001b[0;34m,\u001b[0m\u001b[0;34m\u001b[0m\u001b[0;34m\u001b[0m\u001b[0m\n",
      "\u001b[0;32m~/miniconda/envs/loca/lib/python3.6/site-packages/xarray/backends/api.py\u001b[0m in \u001b[0;36mopen_mfdataset\u001b[0;34m(paths, chunks, concat_dim, compat, preprocess, engine, lock, data_vars, coords, autoclose, parallel, **kwargs)\u001b[0m\n\u001b[1;32m    600\u001b[0m \u001b[0;34m\u001b[0m\u001b[0m\n\u001b[1;32m    601\u001b[0m     \u001b[0;32mif\u001b[0m \u001b[0;32mnot\u001b[0m \u001b[0mpaths\u001b[0m\u001b[0;34m:\u001b[0m\u001b[0;34m\u001b[0m\u001b[0;34m\u001b[0m\u001b[0m\n\u001b[0;32m--> 602\u001b[0;31m         \u001b[0;32mraise\u001b[0m \u001b[0mIOError\u001b[0m\u001b[0;34m(\u001b[0m\u001b[0;34m'no files to open'\u001b[0m\u001b[0;34m)\u001b[0m\u001b[0;34m\u001b[0m\u001b[0;34m\u001b[0m\u001b[0m\n\u001b[0m\u001b[1;32m    603\u001b[0m \u001b[0;34m\u001b[0m\u001b[0m\n\u001b[1;32m    604\u001b[0m     \u001b[0;31m# Coerce 1D input into ND to maintain backwards-compatible API until API\u001b[0m\u001b[0;34m\u001b[0m\u001b[0;34m\u001b[0m\u001b[0;34m\u001b[0m\u001b[0m\n",
      "\u001b[0;31mOSError\u001b[0m: no files to open"
     ]
    },
    {
     "name": "stderr",
     "output_type": "stream",
     "text": [
      "distributed.utils - ERROR - \n",
      "Traceback (most recent call last):\n",
      "  File \"/glade/u/home/jvano/miniconda/envs/loca/lib/python3.6/site-packages/distributed/utils.py\", line 649, in log_errors\n",
      "    yield\n",
      "  File \"/glade/u/home/jvano/miniconda/envs/loca/lib/python3.6/site-packages/distributed/client.py\", line 873, in _reconnect\n",
      "    yield self._ensure_connected()\n",
      "  File \"/glade/u/home/jvano/miniconda/envs/loca/lib/python3.6/site-packages/tornado/gen.py\", line 1133, in run\n",
      "    value = future.result()\n",
      "  File \"/glade/u/home/jvano/miniconda/envs/loca/lib/python3.6/site-packages/tornado/gen.py\", line 1147, in run\n",
      "    yielded = self.gen.send(value)\n",
      "  File \"/glade/u/home/jvano/miniconda/envs/loca/lib/python3.6/site-packages/distributed/client.py\", line 904, in _ensure_connected\n",
      "    assert len(msg) == 1\n",
      "AssertionError\n",
      "distributed.utils - ERROR - \n",
      "Traceback (most recent call last):\n",
      "  File \"/glade/u/home/jvano/miniconda/envs/loca/lib/python3.6/site-packages/distributed/utils.py\", line 649, in log_errors\n",
      "    yield\n",
      "  File \"/glade/u/home/jvano/miniconda/envs/loca/lib/python3.6/site-packages/distributed/client.py\", line 990, in _handle_report\n",
      "    yield self._reconnect()\n",
      "  File \"/glade/u/home/jvano/miniconda/envs/loca/lib/python3.6/site-packages/tornado/gen.py\", line 1133, in run\n",
      "    value = future.result()\n",
      "  File \"/glade/u/home/jvano/miniconda/envs/loca/lib/python3.6/site-packages/tornado/gen.py\", line 1141, in run\n",
      "    yielded = self.gen.throw(*exc_info)\n",
      "  File \"/glade/u/home/jvano/miniconda/envs/loca/lib/python3.6/site-packages/distributed/client.py\", line 873, in _reconnect\n",
      "    yield self._ensure_connected()\n",
      "  File \"/glade/u/home/jvano/miniconda/envs/loca/lib/python3.6/site-packages/tornado/gen.py\", line 1133, in run\n",
      "    value = future.result()\n",
      "  File \"/glade/u/home/jvano/miniconda/envs/loca/lib/python3.6/site-packages/tornado/gen.py\", line 1147, in run\n",
      "    yielded = self.gen.send(value)\n",
      "  File \"/glade/u/home/jvano/miniconda/envs/loca/lib/python3.6/site-packages/distributed/client.py\", line 904, in _ensure_connected\n",
      "    assert len(msg) == 1\n",
      "AssertionError\n",
      "distributed.comm.tcp - WARNING - Closing dangling stream in <TCP local=tcp://128.117.181.217:42734 remote=tcp://128.117.181.217:42734>\n",
      "distributed.comm.tcp - WARNING - Closing dangling stream in <TCP local=tcp://128.117.181.217:42734 remote=tcp://128.117.181.217:42734>\n",
      "distributed.comm.tcp - WARNING - Closing dangling stream in <TCP local=tcp://128.117.181.217:42734 remote=tcp://128.117.181.217:42734>\n",
      "distributed.comm.tcp - WARNING - Closing dangling stream in <TCP local=tcp://128.117.181.217:42734 remote=tcp://128.117.181.217:42734>\n",
      "distributed.comm.tcp - WARNING - Closing dangling stream in <TCP local=tcp://128.117.181.217:42734 remote=tcp://128.117.181.217:42734>\n"
     ]
    }
   ],
   "source": [
    "#test to see if reads in\n",
    "\n",
    "read_cache = True\n",
    "hist_data = {}\n",
    "rcp4_data = {}\n",
    "rcp8_data = {}\n",
    "if read_cache:\n",
    "    for key in ['loca', 'bcsd']:\n",
    "        hist_data[key] = xr.open_mfdataset(\n",
    "            os.path.join(cache_dir, f'monthly_cmip_hydro_hist.{key}_*.nc'),\n",
    "            concat_dim='gcm', chunks={'time': 72})\n",
    "        rcp4_data[key] = xr.open_mfdataset(\n",
    "            os.path.join(cache_dir, f'monthly_cmip_hydro_rcp4.{key}_*.nc'),\n",
    "            concat_dim='gcm', chunks={'time': 72})\n",
    "        rcp8_data[key] = xr.open_mfdataset(\n",
    "            os.path.join(cache_dir, f'monthly_cmip_hydro_rcp8.{key}_*.nc'),\n",
    "            concat_dim='gcm', chunks={'time': 72})"
   ]
  }
 ],
 "metadata": {
  "kernelspec": {
   "display_name": "Python [conda env:loca]",
   "language": "python",
   "name": "conda-env-loca-py"
  },
  "language_info": {
   "codemirror_mode": {
    "name": "ipython",
    "version": 3
   },
   "file_extension": ".py",
   "mimetype": "text/x-python",
   "name": "python",
   "nbconvert_exporter": "python",
   "pygments_lexer": "ipython3",
   "version": "3.6.7"
  }
 },
 "nbformat": 4,
 "nbformat_minor": 2
}
