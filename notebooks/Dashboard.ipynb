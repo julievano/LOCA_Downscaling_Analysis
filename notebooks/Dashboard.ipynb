{
 "cells": [
  {
   "cell_type": "markdown",
   "metadata": {},
   "source": [
    "# Dashboard notebook to control shared dask cluster "
   ]
  },
  {
   "cell_type": "code",
   "execution_count": 1,
   "metadata": {},
   "outputs": [],
   "source": [
    "from dask_jobqueue import PBSCluster\n",
    "from distributed import Client\n",
    "\n",
    "cluster = PBSCluster(project='P48500028',\n",
    "                     queue='premium',\n",
    "                     walltime='02:00:00')\n",
    "\n",
    "client = Client(cluster)\n",
    "\n",
    "# cluster.scale(4)  # TODO: figure out why we need to scale up to 1 worker to open the bcsd/maurer datasets"
   ]
  },
  {
   "cell_type": "code",
   "execution_count": 2,
   "metadata": {},
   "outputs": [
    {
     "data": {
      "application/vnd.jupyter.widget-view+json": {
       "model_id": "737956d942e848e6a6a5c8da6e4db9bc",
       "version_major": 2,
       "version_minor": 0
      },
      "text/plain": [
       "VBox(children=(HTML(value='<h2>PBSCluster</h2>'), HBox(children=(HTML(value='\\n<div>\\n  <style scoped>\\n    .d…"
      ]
     },
     "metadata": {},
     "output_type": "display_data"
    }
   ],
   "source": [
    "cluster"
   ]
  },
  {
   "cell_type": "code",
   "execution_count": 3,
   "metadata": {},
   "outputs": [
    {
     "data": {
      "text/plain": [
       "<distributed.deploy.adaptive.Adaptive at 0x2b24199c7e10>"
      ]
     },
     "execution_count": 3,
     "metadata": {},
     "output_type": "execute_result"
    }
   ],
   "source": [
    "cluster.adapt(minimum=36, maximum=90, interval='500ms')"
   ]
  },
  {
   "cell_type": "code",
   "execution_count": 4,
   "metadata": {},
   "outputs": [
    {
     "data": {
      "text/html": [
       "<table style=\"border: 2px solid white;\">\n",
       "<tr>\n",
       "<td style=\"vertical-align: top; border: 0px solid white\">\n",
       "<h3>Client</h3>\n",
       "<ul>\n",
       "  <li><b>Scheduler: </b>tcp://10.148.10.15:37891\n",
       "  <li><b>Dashboard: </b><a href='proxy/8787/status' target='_blank'>proxy/8787/status</a>\n",
       "</ul>\n",
       "</td>\n",
       "<td style=\"vertical-align: top; border: 0px solid white\">\n",
       "<h3>Cluster</h3>\n",
       "<ul>\n",
       "  <li><b>Workers: </b>0</li>\n",
       "  <li><b>Cores: </b>0</li>\n",
       "  <li><b>Memory: </b>0 B</li>\n",
       "</ul>\n",
       "</td>\n",
       "</tr>\n",
       "</table>"
      ],
      "text/plain": [
       "<Client: scheduler='tcp://10.148.10.15:37891' processes=0 cores=0>"
      ]
     },
     "execution_count": 4,
     "metadata": {},
     "output_type": "execute_result"
    }
   ],
   "source": [
    "client"
   ]
  },
  {
   "cell_type": "code",
   "execution_count": 5,
   "metadata": {},
   "outputs": [],
   "source": [
    "import json\n",
    "import os\n",
    "with open(os.path.join(os.environ['HOME'], 'scheduler_file.json'), 'w') as f:\n",
    "    json.dump(client.scheduler_info(), f, indent=2)\n"
   ]
  },
  {
   "cell_type": "code",
   "execution_count": 6,
   "metadata": {},
   "outputs": [
    {
     "name": "stdout",
     "output_type": "stream",
     "text": [
      "\n",
      "INSTALLED VERSIONS\n",
      "------------------\n",
      "commit: None\n",
      "python: 3.6.7 | packaged by conda-forge | (default, Feb 28 2019, 09:07:38) \n",
      "[GCC 7.3.0]\n",
      "python-bits: 64\n",
      "OS: Linux\n",
      "OS-release: 4.12.14-94.41-default\n",
      "machine: x86_64\n",
      "processor: x86_64\n",
      "byteorder: little\n",
      "LC_ALL: None\n",
      "LANG: None\n",
      "LOCALE: en_US.UTF-8\n",
      "libhdf5: 1.8.18\n",
      "libnetcdf: 4.4.1.1\n",
      "\n",
      "xarray: 0.11.3\n",
      "pandas: 0.24.1\n",
      "numpy: 1.16.3\n",
      "scipy: 1.2.1\n",
      "netCDF4: 1.3.1\n",
      "pydap: None\n",
      "h5netcdf: 0.7.0\n",
      "h5py: 2.8.0\n",
      "Nio: None\n",
      "zarr: None\n",
      "cftime: 1.0.3.4\n",
      "PseudonetCDF: None\n",
      "rasterio: None\n",
      "cfgrib: None\n",
      "iris: None\n",
      "bottleneck: 1.2.1\n",
      "cyordereddict: None\n",
      "dask: 1.1.2\n",
      "distributed: 1.26.0\n",
      "matplotlib: 2.2.3\n",
      "cartopy: 0.16.0\n",
      "seaborn: 0.9.0\n",
      "setuptools: 40.8.0\n",
      "pip: 19.0.3\n",
      "conda: None\n",
      "pytest: None\n",
      "IPython: 7.3.0\n",
      "sphinx: None\n"
     ]
    }
   ],
   "source": [
    "import xarray as xr\n",
    "xr.show_versions()"
   ]
  },
  {
   "cell_type": "code",
   "execution_count": 7,
   "metadata": {},
   "outputs": [
    {
     "name": "stdout",
     "output_type": "stream",
     "text": [
      "#!/bin/bash\n",
      "\n",
      "#!/usr/bin/env bash\n",
      "#PBS -N dask-worker\n",
      "#PBS -q premium\n",
      "#PBS -A P48500028\n",
      "#PBS -l select=1:ncpus=36:mem=109GB\n",
      "#PBS -l walltime=02:00:00\n",
      "JOB_ID=${PBS_JOBID%.*}\n",
      "\n",
      "export OMP_NUM_THREADS=1\n",
      "\n",
      "/glade/u/home/jvano/miniconda/envs/loca/bin/python -m distributed.cli.dask_worker tcp://10.148.10.15:37891 --nthreads 4 --nprocs 9 --memory-limit 12.11GB --name dask-worker--${JOB_ID}-- --death-timeout 60\n",
      "\n"
     ]
    }
   ],
   "source": [
    "print(cluster.job_script())"
   ]
  },
  {
   "cell_type": "code",
   "execution_count": null,
   "metadata": {},
   "outputs": [],
   "source": []
  }
 ],
 "metadata": {
  "kernelspec": {
   "display_name": "Python [conda env:loca]",
   "language": "python",
   "name": "conda-env-loca-py"
  },
  "language_info": {
   "codemirror_mode": {
    "name": "ipython",
    "version": 3
   },
   "file_extension": ".py",
   "mimetype": "text/x-python",
   "name": "python",
   "nbconvert_exporter": "python",
   "pygments_lexer": "ipython3",
   "version": "3.6.7"
  }
 },
 "nbformat": 4,
 "nbformat_minor": 2
}
