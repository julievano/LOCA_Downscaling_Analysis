{
 "cells": [
  {
   "cell_type": "code",
   "execution_count": 1,
   "metadata": {},
   "outputs": [
    {
     "name": "stdout",
     "output_type": "stream",
     "text": [
      "Last executed: 2019-08-19 16:40:08.558457 by jvano on casper21\n"
     ]
    }
   ],
   "source": [
    "from loca import print_date\n",
    "print_date()"
   ]
  },
  {
   "cell_type": "code",
   "execution_count": 2,
   "metadata": {},
   "outputs": [],
   "source": [
    "%matplotlib inline\n",
    "\n",
    "%load_ext autoreload\n",
    "%autoreload 2\n",
    "\n",
    "import os\n",
    "import matplotlib.pyplot as plt\n",
    "\n",
    "import xarray as xr\n",
    "\n",
    "from loca.data_catalog import load_daily_cmip_met_datasets\n",
    "models = ['ACCESS1-0', 'CanESM2', 'CCSM4', 'CNRM-CM5', 'MIROC5', 'MRI-CGCM3', 'NorESM1-M']\n"
   ]
  },
  {
   "cell_type": "code",
   "execution_count": 3,
   "metadata": {},
   "outputs": [],
   "source": [
    "from dask.distributed import Client\n",
    "from dask_jobqueue import PBSCluster"
   ]
  },
  {
   "cell_type": "code",
   "execution_count": 4,
   "metadata": {},
   "outputs": [
    {
     "data": {
      "application/vnd.jupyter.widget-view+json": {
       "model_id": "eb5cd65bf9fa4efd8aa9a25fc77a3857",
       "version_major": 2,
       "version_minor": 0
      },
      "text/plain": [
       "VBox(children=(HTML(value='<h2>PBSCluster</h2>'), HBox(children=(HTML(value='\\n<div>\\n  <style scoped>\\n    .d…"
      ]
     },
     "metadata": {},
     "output_type": "display_data"
    }
   ],
   "source": [
    "cluster = PBSCluster(walltime='02:00:00')\n",
    "cluster"
   ]
  },
  {
   "cell_type": "code",
   "execution_count": 5,
   "metadata": {},
   "outputs": [],
   "source": [
    "cluster.scale(9)"
   ]
  },
  {
   "cell_type": "code",
   "execution_count": 6,
   "metadata": {},
   "outputs": [
    {
     "data": {
      "text/html": [
       "<table style=\"border: 2px solid white;\">\n",
       "<tr>\n",
       "<td style=\"vertical-align: top; border: 0px solid white\">\n",
       "<h3>Client</h3>\n",
       "<ul>\n",
       "  <li><b>Scheduler: </b>tcp://10.148.10.19:43772\n",
       "  <li><b>Dashboard: </b><a href='proxy/8787/status' target='_blank'>proxy/8787/status</a>\n",
       "</ul>\n",
       "</td>\n",
       "<td style=\"vertical-align: top; border: 0px solid white\">\n",
       "<h3>Cluster</h3>\n",
       "<ul>\n",
       "  <li><b>Workers: </b>0</li>\n",
       "  <li><b>Cores: </b>0</li>\n",
       "  <li><b>Memory: </b>0 B</li>\n",
       "</ul>\n",
       "</td>\n",
       "</tr>\n",
       "</table>"
      ],
      "text/plain": [
       "<Client: scheduler='tcp://10.148.10.19:43772' processes=0 cores=0>"
      ]
     },
     "execution_count": 6,
     "metadata": {},
     "output_type": "execute_result"
    }
   ],
   "source": [
    "client = Client(cluster)\n",
    "client"
   ]
  },
  {
   "cell_type": "code",
   "execution_count": 7,
   "metadata": {},
   "outputs": [],
   "source": [
    "def mean_max_precip(da):\n",
    "    return da.resample(time='AS').max('time').mean('time')\n",
    "\n",
    "def wet_day_fraction(da, thresh=0):\n",
    "    nwet = da.where(da > thresh).count(dim=\"time\")\n",
    "    nday = da.sizes['time']\n",
    "    return nwet / nday"
   ]
  },
  {
   "cell_type": "code",
   "execution_count": 31,
   "metadata": {},
   "outputs": [],
   "source": [
    "def calc_and_write_stats(data, scen='hist'):\n",
    "    if scen == 'hist':\n",
    "        times = slice('1970', '1999')\n",
    "    elif 'rcp' in scen:\n",
    "        times = slice('2065', '2094')\n",
    "    else:\n",
    "        raise ValueError(period)\n",
    "    try:\n",
    "        da = data.sel(time=times).mean('time').load()\n",
    "        print(f'/glade/u/home/jhamman/workdir/stats/mean_{method}_{scen}_{model}.nc')\n",
    "        da.to_netcdf(f'/glade/u/home/jhamman/workdir/stats/mean_{method}_{scen}_{model}.nc')\n",
    "    except:\n",
    "        print('failed mean')\n",
    "    \n",
    "    try:\n",
    "        da = mean_max_precip(data.sel(time=times)).load()\n",
    "        da.to_netcdf(f'/glade/u/home/jhamman/workdir/stats/annmax_{method}_{scen}_{model}.nc')\n",
    "    except:\n",
    "        print('failed max')\n",
    "    \n",
    "    try:\n",
    "        da = wet_day_fraction(data.sel(time=times)).load()\n",
    "        da.to_netcdf(f'/glade/u/home/jhamman/workdir/stats/wetfrac_{method}_{scen}_{model}.nc')\n",
    "    except:\n",
    "        print('failed wdf')\n",
    "        "
   ]
  },
  {
   "cell_type": "code",
   "execution_count": 9,
   "metadata": {},
   "outputs": [],
   "source": [
    "hist_data = {}\n",
    "rcp4_data = {}\n",
    "rcp8_data = {}"
   ]
  },
  {
   "cell_type": "code",
   "execution_count": 13,
   "metadata": {},
   "outputs": [
    {
     "name": "stdout",
     "output_type": "stream",
     "text": [
      "load_daily_cmip_met_datasets\n",
      "load_daily_loca_meteorology\n",
      "load_daily_bcsd_meteorology\n",
      "load_bcsd_dataset\n",
      "load_daily_cmip_met_datasets\n",
      "load_daily_loca_meteorology\n",
      "load_daily_bcsd_meteorology\n",
      "load_bcsd_dataset\n",
      "load_daily_cmip_met_datasets\n",
      "load_daily_loca_meteorology\n",
      "load_daily_bcsd_meteorology\n",
      "load_bcsd_dataset\n",
      "/glade/u/home/jhamman/workdir/stats/mean_loca_hist_ACCESS1-0.nc\n",
      "/glade/u/home/jhamman/workdir/stats/mean_loca_rcp45_ACCESS1-0.nc\n",
      "/glade/u/home/jhamman/workdir/stats/mean_loca_rcp85_ACCESS1-0.nc\n",
      "/glade/u/home/jhamman/workdir/stats/mean_bcsd_hist_ACCESS1-0.nc\n",
      "/glade/u/home/jhamman/workdir/stats/mean_bcsd_rcp45_ACCESS1-0.nc\n",
      "/glade/u/home/jhamman/workdir/stats/mean_bcsd_rcp85_ACCESS1-0.nc\n",
      "load_daily_cmip_met_datasets\n",
      "load_daily_loca_meteorology\n",
      "load_daily_bcsd_meteorology\n",
      "load_bcsd_dataset\n",
      "load_daily_cmip_met_datasets\n",
      "load_daily_loca_meteorology\n",
      "load_daily_bcsd_meteorology\n",
      "load_bcsd_dataset\n",
      "load_daily_cmip_met_datasets\n",
      "load_daily_loca_meteorology\n",
      "load_daily_bcsd_meteorology\n",
      "load_bcsd_dataset\n",
      "/glade/u/home/jhamman/workdir/stats/mean_loca_hist_CanESM2.nc\n",
      "/glade/u/home/jhamman/workdir/stats/mean_loca_rcp45_CanESM2.nc\n",
      "/glade/u/home/jhamman/workdir/stats/mean_loca_rcp85_CanESM2.nc\n",
      "/glade/u/home/jhamman/workdir/stats/mean_bcsd_hist_CanESM2.nc\n",
      "/glade/u/home/jhamman/workdir/stats/mean_bcsd_rcp45_CanESM2.nc\n",
      "/glade/u/home/jhamman/workdir/stats/mean_bcsd_rcp85_CanESM2.nc\n",
      "load_daily_cmip_met_datasets\n",
      "load_daily_loca_meteorology\n",
      "load_daily_bcsd_meteorology\n",
      "load_bcsd_dataset\n",
      "load_daily_cmip_met_datasets\n",
      "load_daily_loca_meteorology\n",
      "load_daily_bcsd_meteorology\n",
      "load_bcsd_dataset\n",
      "load_daily_cmip_met_datasets\n",
      "load_daily_loca_meteorology\n",
      "load_daily_bcsd_meteorology\n",
      "load_bcsd_dataset\n",
      "/glade/u/home/jhamman/workdir/stats/mean_loca_hist_CCSM4.nc\n",
      "/glade/u/home/jhamman/workdir/stats/mean_loca_rcp45_CCSM4.nc\n",
      "/glade/u/home/jhamman/workdir/stats/mean_loca_rcp85_CCSM4.nc\n",
      "/glade/u/home/jhamman/workdir/stats/mean_bcsd_hist_CCSM4.nc\n",
      "/glade/u/home/jhamman/workdir/stats/mean_bcsd_rcp45_CCSM4.nc\n",
      "/glade/u/home/jhamman/workdir/stats/mean_bcsd_rcp85_CCSM4.nc\n",
      "load_daily_cmip_met_datasets\n",
      "load_daily_loca_meteorology\n",
      "load_daily_bcsd_meteorology\n",
      "load_bcsd_dataset\n",
      "load_daily_cmip_met_datasets\n",
      "load_daily_loca_meteorology\n",
      "load_daily_bcsd_meteorology\n",
      "load_bcsd_dataset\n",
      "load_daily_cmip_met_datasets\n",
      "load_daily_loca_meteorology\n",
      "load_daily_bcsd_meteorology\n",
      "load_bcsd_dataset\n",
      "/glade/u/home/jhamman/workdir/stats/mean_loca_hist_CNRM-CM5.nc\n",
      "/glade/u/home/jhamman/workdir/stats/mean_loca_rcp45_CNRM-CM5.nc\n",
      "/glade/u/home/jhamman/workdir/stats/mean_loca_rcp85_CNRM-CM5.nc\n",
      "/glade/u/home/jhamman/workdir/stats/mean_bcsd_hist_CNRM-CM5.nc\n",
      "/glade/u/home/jhamman/workdir/stats/mean_bcsd_rcp45_CNRM-CM5.nc\n",
      "/glade/u/home/jhamman/workdir/stats/mean_bcsd_rcp85_CNRM-CM5.nc\n",
      "load_daily_cmip_met_datasets\n",
      "load_daily_loca_meteorology\n",
      "load_daily_bcsd_meteorology\n",
      "load_bcsd_dataset\n",
      "load_daily_cmip_met_datasets\n",
      "load_daily_loca_meteorology\n",
      "load_daily_bcsd_meteorology\n",
      "load_bcsd_dataset\n",
      "load_daily_cmip_met_datasets\n",
      "load_daily_loca_meteorology\n",
      "load_daily_bcsd_meteorology\n",
      "load_bcsd_dataset\n",
      "/glade/u/home/jhamman/workdir/stats/mean_loca_hist_MIROC5.nc\n",
      "/glade/u/home/jhamman/workdir/stats/mean_loca_rcp45_MIROC5.nc\n",
      "/glade/u/home/jhamman/workdir/stats/mean_loca_rcp85_MIROC5.nc\n",
      "/glade/u/home/jhamman/workdir/stats/mean_bcsd_hist_MIROC5.nc\n",
      "/glade/u/home/jhamman/workdir/stats/mean_bcsd_rcp45_MIROC5.nc\n",
      "/glade/u/home/jhamman/workdir/stats/mean_bcsd_rcp85_MIROC5.nc\n",
      "load_daily_cmip_met_datasets\n",
      "load_daily_loca_meteorology\n",
      "load_daily_bcsd_meteorology\n",
      "load_bcsd_dataset\n",
      "load_daily_cmip_met_datasets\n",
      "load_daily_loca_meteorology\n",
      "load_daily_bcsd_meteorology\n",
      "load_bcsd_dataset\n",
      "load_daily_cmip_met_datasets\n",
      "load_daily_loca_meteorology\n",
      "load_daily_bcsd_meteorology\n",
      "load_bcsd_dataset\n",
      "/glade/u/home/jhamman/workdir/stats/mean_loca_hist_MRI-CGCM3.nc\n",
      "/glade/u/home/jhamman/workdir/stats/mean_loca_rcp45_MRI-CGCM3.nc\n",
      "/glade/u/home/jhamman/workdir/stats/mean_loca_rcp85_MRI-CGCM3.nc\n",
      "/glade/u/home/jhamman/workdir/stats/mean_bcsd_hist_MRI-CGCM3.nc\n",
      "/glade/u/home/jhamman/workdir/stats/mean_bcsd_rcp45_MRI-CGCM3.nc\n",
      "/glade/u/home/jhamman/workdir/stats/mean_bcsd_rcp85_MRI-CGCM3.nc\n",
      "load_daily_cmip_met_datasets\n",
      "load_daily_loca_meteorology\n",
      "load_daily_bcsd_meteorology\n",
      "load_bcsd_dataset\n",
      "load_daily_cmip_met_datasets\n",
      "load_daily_loca_meteorology\n",
      "load_daily_bcsd_meteorology\n",
      "load_bcsd_dataset\n",
      "load_daily_cmip_met_datasets\n",
      "load_daily_loca_meteorology\n",
      "load_daily_bcsd_meteorology\n",
      "load_bcsd_dataset\n",
      "/glade/u/home/jhamman/workdir/stats/mean_loca_hist_NorESM1-M.nc\n",
      "/glade/u/home/jhamman/workdir/stats/mean_loca_rcp45_NorESM1-M.nc\n",
      "/glade/u/home/jhamman/workdir/stats/mean_loca_rcp85_NorESM1-M.nc\n",
      "/glade/u/home/jhamman/workdir/stats/mean_bcsd_hist_NorESM1-M.nc\n",
      "/glade/u/home/jhamman/workdir/stats/mean_bcsd_rcp45_NorESM1-M.nc\n",
      "/glade/u/home/jhamman/workdir/stats/mean_bcsd_rcp85_NorESM1-M.nc\n"
     ]
    }
   ],
   "source": [
    "for model in models:\n",
    "    hist_data = load_daily_cmip_met_datasets('historical', models=[model], parallel=True)\n",
    "    rcp4_data = load_daily_cmip_met_datasets('rcp45', models=[model], parallel=True)\n",
    "    rcp8_data = load_daily_cmip_met_datasets('rcp85', models=[model], parallel=True)\n",
    "    \n",
    "    for method in ['loca', 'bcsd']:\n",
    "        calc_and_write_stats(hist_data[method]['pcp'], scen='hist')\n",
    "        calc_and_write_stats(rcp4_data[method]['pcp'], scen='rcp45')\n",
    "        calc_and_write_stats(rcp8_data[method]['pcp'], scen='rcp85')"
   ]
  },
  {
   "cell_type": "code",
   "execution_count": 25,
   "metadata": {},
   "outputs": [],
   "source": [
    "wrf_gcm_map = {'ACCESS1-0': 'access13', 'CanESM2': 'canesm', 'CCSM4': 'cesm', 'CNRM-CM5': 'cnrm', 'MIROC5': 'miroc5', 'MRI-CGCM3': 'mri', 'NorESM1-M': 'noresm'}\n",
    "\n",
    "def load_daily_icar_datasets(scen, models=None, **kwargs):\n",
    "    \n",
    "    fname = '/glade/p/ral/hap/trude/conus_icar/qm_data/{gcm}_{scen}_exl_conv.nc'\n",
    "    fnames = [fname.format(gcm=wrf_gcm_map[gcm], scen=scen) for gcm in models]\n",
    "    ds = xr.open_mfdataset(fnames, **kwargs)\n",
    "    \n",
    "    return ds\n",
    "\n",
    "configs = ['AR_p', 'AR_puv', 'AR_uvq', 'PA_p', 'PA_puv', 'PA_uvq', 'PR_p', 'PR_puv', 'PR_uvq', 'PT_p']\n",
    "def load_daily_gard_gutmann_datasets(scen, models=None, configs=None, **kwargs):\n",
    "    \n",
    "    fname = '/glade/u/home/gutmann/work/gard/paper_data/processed/gard_{gcm}_{scen}_{config}.nc'\n",
    "    \n",
    "    ds_list = []\n",
    "    for config in configs:\n",
    "        fnames = [fname.format(gcm=wrf_gcm_map[gcm], scen=scen, config=config) for gcm in models]\n",
    "        ds_list.append(xr.open_mfdataset(fnames, **kwargs))\n",
    "        \n",
    "    return xr.concat(ds_list, dim=xr.Variable('config', configs))\n",
    "    \n",
    "    "
   ]
  },
  {
   "cell_type": "code",
   "execution_count": 21,
   "metadata": {},
   "outputs": [
    {
     "name": "stdout",
     "output_type": "stream",
     "text": [
      "/glade/u/home/jhamman/workdir/stats/mean_icar_hist_ACCESS1-0.nc\n",
      "/glade/u/home/jhamman/workdir/stats/mean_icar_rcp45_ACCESS1-0.nc\n",
      "/glade/u/home/jhamman/workdir/stats/mean_icar_rcp85_ACCESS1-0.nc\n",
      "/glade/u/home/jhamman/workdir/stats/mean_icar_hist_CanESM2.nc\n",
      "/glade/u/home/jhamman/workdir/stats/mean_icar_rcp45_CanESM2.nc\n",
      "/glade/u/home/jhamman/workdir/stats/mean_icar_rcp85_CanESM2.nc\n",
      "/glade/u/home/jhamman/workdir/stats/mean_icar_hist_CCSM4.nc\n",
      "/glade/u/home/jhamman/workdir/stats/mean_icar_rcp45_CCSM4.nc\n",
      "/glade/u/home/jhamman/workdir/stats/mean_icar_rcp85_CCSM4.nc\n",
      "/glade/u/home/jhamman/workdir/stats/mean_icar_hist_CNRM-CM5.nc\n",
      "/glade/u/home/jhamman/workdir/stats/mean_icar_rcp45_CNRM-CM5.nc\n",
      "/glade/u/home/jhamman/workdir/stats/mean_icar_rcp85_CNRM-CM5.nc\n",
      "/glade/u/home/jhamman/workdir/stats/mean_icar_hist_MIROC5.nc\n",
      "/glade/u/home/jhamman/workdir/stats/mean_icar_rcp45_MIROC5.nc\n",
      "/glade/u/home/jhamman/workdir/stats/mean_icar_rcp85_MIROC5.nc\n",
      "/glade/u/home/jhamman/workdir/stats/mean_icar_hist_MRI-CGCM3.nc\n",
      "/glade/u/home/jhamman/workdir/stats/mean_icar_rcp45_MRI-CGCM3.nc\n",
      "/glade/u/home/jhamman/workdir/stats/mean_icar_rcp85_MRI-CGCM3.nc\n",
      "/glade/u/home/jhamman/workdir/stats/mean_icar_hist_NorESM1-M.nc\n",
      "/glade/u/home/jhamman/workdir/stats/mean_icar_rcp45_NorESM1-M.nc\n",
      "/glade/u/home/jhamman/workdir/stats/mean_icar_rcp85_NorESM1-M.nc\n"
     ]
    }
   ],
   "source": [
    "method = 'icar'\n",
    "chunks = {'time': 183}\n",
    "for model in models:\n",
    "    hist_data[method] = load_daily_icar_datasets('hist', models=[model], chunks=chunks)\n",
    "    rcp4_data[method] = load_daily_icar_datasets('rcp45', models=[model], chunks=chunks)\n",
    "    rcp8_data[method] = load_daily_icar_datasets('rcp85', models=[model], chunks=chunks)\n",
    "    \n",
    "    calc_and_write_stats(hist_data[method]['pcp'], scen='hist')\n",
    "    calc_and_write_stats(rcp4_data[method]['pcp'], scen='rcp45')\n",
    "    calc_and_write_stats(rcp8_data[method]['pcp'], scen='rcp85')"
   ]
  },
  {
   "cell_type": "code",
   "execution_count": 35,
   "metadata": {},
   "outputs": [
    {
     "name": "stdout",
     "output_type": "stream",
     "text": [
      "/glade/u/home/jhamman/workdir/stats/mean_gard_hist_ACCESS1-0.nc\n",
      "/glade/u/home/jhamman/workdir/stats/mean_gard_rcp85_ACCESS1-0.nc\n",
      "failed mean\n",
      "failed max\n",
      "failed wdf\n",
      "/glade/u/home/jhamman/workdir/stats/mean_gard_rcp85_CanESM2.nc\n",
      "/glade/u/home/jhamman/workdir/stats/mean_gard_hist_CCSM4.nc\n",
      "/glade/u/home/jhamman/workdir/stats/mean_gard_rcp85_CCSM4.nc\n",
      "model failed\n",
      "/glade/u/home/jhamman/workdir/stats/mean_gard_hist_MIROC5.nc\n",
      "/glade/u/home/jhamman/workdir/stats/mean_gard_rcp85_MIROC5.nc\n",
      "/glade/u/home/jhamman/workdir/stats/mean_gard_hist_MRI-CGCM3.nc\n",
      "/glade/u/home/jhamman/workdir/stats/mean_gard_rcp85_MRI-CGCM3.nc\n",
      "/glade/u/home/jhamman/workdir/stats/mean_gard_hist_NorESM1-M.nc\n",
      "/glade/u/home/jhamman/workdir/stats/mean_gard_rcp85_NorESM1-M.nc\n"
     ]
    }
   ],
   "source": [
    "wrf_gcm_map = {'ACCESS1-0': 'access13', 'CanESM2': 'canesm', 'CCSM4': 'ccsm4', 'CNRM-CM5': 'cnrm', 'MIROC5': 'miroc5', 'MRI-CGCM3': 'mri', 'NorESM1-M': 'noresm'}\n",
    "gcms = ['ACCESS1-0', 'MIROC5', 'MRI-CGCM3', 'NorESM1-M', ]\n",
    "# 'CNRM-CM5', 'CanESM2' # broken in GARD\n",
    "\n",
    "method = 'gard'\n",
    "chunks = {'time': 183}\n",
    "for model in models:\n",
    "    try:\n",
    "        hist_data[method] = load_daily_gard_gutmann_datasets('hist', models=[model], configs=configs, chunks=chunks)\n",
    "        rcp8_data[method] = load_daily_gard_gutmann_datasets('rcp85', models=[model], configs=configs, chunks=chunks)\n",
    "    except FileNotFoundError:\n",
    "        print('model failed')\n",
    "        continue\n",
    "    calc_and_write_stats(hist_data[method]['pcp'], scen='hist')\n",
    "    calc_and_write_stats(rcp8_data[method]['pcp'], scen='rcp85')"
   ]
  },
  {
   "cell_type": "code",
   "execution_count": 28,
   "metadata": {},
   "outputs": [
    {
     "data": {
      "text/plain": [
       "{'icar': <xarray.Dataset>\n",
       " Dimensions:    (lat: 224, lon: 464, time: 20073)\n",
       " Coordinates:\n",
       "   * time       (time) datetime64[ns] 1951-01-02T23:00:00 ... 2005-12-30T23:00:00\n",
       "   * lat        (lat) float64 25.06 25.19 25.31 25.44 ... 52.56 52.69 52.81 52.94\n",
       "   * lon        (lon) float64 -124.9 -124.8 -124.7 ... -67.31 -67.19 -67.06\n",
       " Data variables:\n",
       "     pcp        (time, lat, lon) float32 dask.array<shape=(20073, 224, 464), chunksize=(183, 224, 464)>\n",
       "     t_mean     (time, lat, lon) float32 dask.array<shape=(20073, 224, 464), chunksize=(183, 224, 464)>\n",
       "     t_range    (time, lat, lon) float32 dask.array<shape=(20073, 224, 464), chunksize=(183, 224, 464)>\n",
       "     elevation  (lat, lon) float64 dask.array<shape=(224, 464), chunksize=(224, 464)>\n",
       "     mask       (lat, lon) int64 dask.array<shape=(224, 464), chunksize=(224, 464)>\n",
       "     t_max      (time, lat, lon) float32 dask.array<shape=(20073, 224, 464), chunksize=(183, 224, 464)>\n",
       "     t_min      (time, lat, lon) float32 dask.array<shape=(20073, 224, 464), chunksize=(183, 224, 464)>\n",
       " Attributes:\n",
       "     history:      Created: Wed Oct 25 13:05:38 2017\n",
       "     institution:  National Center for Atmospheric Research\n",
       "     source:       /glade/u/home/jhamman/projects/storylines/src/storylines/st...\n",
       "     Conventions:  CF-1.6\n",
       "     hostname:     geyser03\n",
       "     username:     jhamman\n",
       "     title:        Quantile mapped downscaled dataset, 'gard': <xarray.Dataset>\n",
       " Dimensions:  (config: 1, time: 10957, x: 464, y: 224)\n",
       " Coordinates:\n",
       "   * time     (time) datetime64[ns] 1970-01-01T11:31:10.312499968 ... 1999-12-31T11:29:03.750000128\n",
       "     lat      (y, x) float32 25.0625 25.0625 25.0625 ... 52.9375 52.9375 52.9375\n",
       "     lon      (y, x) float32 235.0625 235.1875 235.3125 ... 292.8125 292.9375\n",
       "   * config   (config) <U4 'AR_p'\n",
       " Dimensions without coordinates: x, y\n",
       " Data variables:\n",
       "     pcp      (config, time, y, x) float32 dask.array<shape=(1, 10957, 224, 464), chunksize=(1, 183, 224, 464)>}"
      ]
     },
     "execution_count": 28,
     "metadata": {},
     "output_type": "execute_result"
    }
   ],
   "source": [
    "hist_data"
   ]
  },
  {
   "cell_type": "code",
   "execution_count": null,
   "metadata": {},
   "outputs": [],
   "source": []
  }
 ],
 "metadata": {
  "kernelspec": {
   "display_name": "Python [conda env:loca]",
   "language": "python",
   "name": "conda-env-loca-py"
  },
  "language_info": {
   "codemirror_mode": {
    "name": "ipython",
    "version": 3
   },
   "file_extension": ".py",
   "mimetype": "text/x-python",
   "name": "python",
   "nbconvert_exporter": "python",
   "pygments_lexer": "ipython3",
   "version": "3.6.7"
  }
 },
 "nbformat": 4,
 "nbformat_minor": 2
}
