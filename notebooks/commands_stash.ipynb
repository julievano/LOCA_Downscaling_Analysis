{
 "cells": [
  {
   "cell_type": "markdown",
   "metadata": {},
   "source": [
    "# USEFUL commands\n",
    "\n",
    "This is the place I'm stashing commands for easy reference (learning tool, may be helpful to others."
   ]
  },
  {
   "cell_type": "code",
   "execution_count": null,
   "metadata": {},
   "outputs": [],
   "source": [
    "#USEFUL WAY TO MAKE A PLOT\n",
    "#ens_means['loca']['pcp'].plot()"
   ]
  },
  {
   "cell_type": "code",
   "execution_count": null,
   "metadata": {},
   "outputs": [],
   "source": [
    "# open a file\n",
    "xr.open_mfdataset('/glade/u/home/jvano/scratch/monthly_cmip_met_hist.bcsd_ACCESS1-0.nc')\n",
    "\n",
    "/glade/scratch/jvano/"
   ]
  },
  {
   "cell_type": "code",
   "execution_count": 3,
   "metadata": {},
   "outputs": [
    {
     "data": {
      "text/plain": [
       "<xarray.Dataset>\n",
       "Dimensions:  (lat: 222, lon: 462, time: 672)\n",
       "Coordinates:\n",
       "  * time     (time) datetime64[ns] 1950-01-01 1950-02-01 ... 2005-12-01\n",
       "  * lat      (lat) float32 25.1875 25.3125 25.4375 ... 52.5625 52.6875 52.8125\n",
       "  * lon      (lon) float32 -124.6875 -124.5625 -124.4375 ... -67.1875 -67.0625\n",
       "    gcm      object ...\n",
       "Data variables:\n",
       "    pcp      (time, lat, lon) float32 dask.array<shape=(672, 222, 462), chunksize=(672, 222, 462)>\n",
       "    t_mean   (time, lat, lon) float32 dask.array<shape=(672, 222, 462), chunksize=(672, 222, 462)>\n",
       "    t_max    (time, lat, lon) float32 dask.array<shape=(672, 222, 462), chunksize=(672, 222, 462)>\n",
       "    t_min    (time, lat, lon) float32 dask.array<shape=(672, 222, 462), chunksize=(672, 222, 462)>\n",
       "    wind     (time, lat, lon) float32 dask.array<shape=(672, 222, 462), chunksize=(672, 222, 462)>\n",
       "Attributes:\n",
       "    Conventions:        GDT 1.2\n",
       "    file_name:          conus_c5.miroc-esm_rcp85_r1i1p1.monthly.tasmin.1979.nc\n",
       "    History:            Archived Dec 2013\n",
       "    authors:            Wood, A. and Mizukami, N., with codes from T. Pruitt,...\n",
       "    description:        Monthly Summary of 1/8th Degree CONUS Daily Meteorology\n",
       "    creation_date:      2013\n",
       "    institution:        NCAR, USACE, USBR\n",
       "    SurfSgnConvention:  Traditional"
      ]
     },
     "execution_count": 3,
     "metadata": {},
     "output_type": "execute_result"
    }
   ],
   "source": [
    "import xarray as xr\n",
    "xr.open_mfdataset('/glade/u/home/jvano/scratch/not_working/monthly_cmip_met_hist.bcsd_MIROC-ESM-CHEM.nc')"
   ]
  },
  {
   "cell_type": "code",
   "execution_count": null,
   "metadata": {},
   "outputs": [],
   "source": [
    "# REMINDERS OF USEFUL LINES\n",
    "# help function\n",
    "# plt.sca?\n",
    "# row\n",
    "# lookup[lookup.LNG_GAGE < -70].iterrows()\n",
    "# row.HUC02\n",
    "# row.staid\n",
    "# lookup['HUC02'].index"
   ]
  },
  {
   "cell_type": "code",
   "execution_count": null,
   "metadata": {},
   "outputs": [],
   "source": [
    "#test = slice('1969-09-01', '1969-12-30')\n",
    "#test = slice('1999-09-01', '1999-12-30')\n",
    "#ds = met_data['bcsd']\n",
    "#ds['pcp'].sel(time=test)"
   ]
  },
  {
   "cell_type": "code",
   "execution_count": null,
   "metadata": {},
   "outputs": [],
   "source": [
    "#client.restart()"
   ]
  },
  {
   "cell_type": "code",
   "execution_count": null,
   "metadata": {},
   "outputs": [],
   "source": [
    "#USEFUL WAY TO MAKE A PLOT\n",
    "#ens_means['loca']['pcp'].plot()\n",
    "\n",
    "# diff['ET'].mean('gcm').plot()\n",
    "# diff['ET'].isel(gcm=3)"
   ]
  },
  {
   "cell_type": "code",
   "execution_count": null,
   "metadata": {},
   "outputs": [],
   "source": [
    "# Reduce dimensions\n",
    "# mask = met_data['bcsd']['t_mean'].isel(gcm=0, time=0).squeeze().notnull()"
   ]
  }
 ],
 "metadata": {
  "kernelspec": {
   "display_name": "Python [conda env:loca]",
   "language": "python",
   "name": "conda-env-loca-py"
  },
  "language_info": {
   "codemirror_mode": {
    "name": "ipython",
    "version": 3
   },
   "file_extension": ".py",
   "mimetype": "text/x-python",
   "name": "python",
   "nbconvert_exporter": "python",
   "pygments_lexer": "ipython3",
   "version": "3.6.7"
  }
 },
 "nbformat": 4,
 "nbformat_minor": 2
}
