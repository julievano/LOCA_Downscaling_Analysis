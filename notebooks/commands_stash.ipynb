{
 "cells": [
  {
   "cell_type": "markdown",
   "metadata": {},
   "source": [
    "# USEFUL commands\n",
    "\n",
    "This is the place I'm stashing commands for easy reference (learning tool, may be helpful to others."
   ]
  },
  {
   "cell_type": "code",
   "execution_count": null,
   "metadata": {},
   "outputs": [],
   "source": [
    "#USEFUL WAY TO MAKE A PLOT\n",
    "#ens_means['loca']['pcp'].plot()"
   ]
  },
  {
   "cell_type": "code",
   "execution_count": null,
   "metadata": {},
   "outputs": [],
   "source": [
    "# open a file\n",
    "xr.open_mfdataset('/glade/u/home/jvano/scratch/monthly_cmip_met_hist.bcsd_ACCESS1-0.nc')"
   ]
  },
  {
   "cell_type": "code",
   "execution_count": null,
   "metadata": {},
   "outputs": [],
   "source": [
    "# REMINDERS OF USEFUL LINES\n",
    "# help function\n",
    "# plt.sca?\n",
    "# row\n",
    "# lookup[lookup.LNG_GAGE < -70].iterrows()\n",
    "# row.HUC02\n",
    "# row.staid\n",
    "# lookup['HUC02'].index"
   ]
  },
  {
   "cell_type": "code",
   "execution_count": null,
   "metadata": {},
   "outputs": [],
   "source": [
    "#test = slice('1969-09-01', '1969-12-30')\n",
    "#test = slice('1999-09-01', '1999-12-30')\n",
    "#ds = met_data['bcsd']\n",
    "#ds['pcp'].sel(time=test)"
   ]
  },
  {
   "cell_type": "code",
   "execution_count": null,
   "metadata": {},
   "outputs": [],
   "source": [
    "#client.restart()"
   ]
  },
  {
   "cell_type": "code",
   "execution_count": null,
   "metadata": {},
   "outputs": [],
   "source": [
    "#USEFUL WAY TO MAKE A PLOT\n",
    "#ens_means['loca']['pcp'].plot()\n",
    "\n",
    "# diff['ET'].mean('gcm').plot()\n",
    "# diff['ET'].isel(gcm=3)"
   ]
  },
  {
   "cell_type": "code",
   "execution_count": null,
   "metadata": {},
   "outputs": [],
   "source": [
    "# Reduce dimensions\n",
    "# mask = met_data['bcsd']['t_mean'].isel(gcm=0, time=0).squeeze().notnull()"
   ]
  }
 ],
 "metadata": {
  "kernelspec": {
   "display_name": "Python [conda env:loca]",
   "language": "python",
   "name": "conda-env-loca-py"
  },
  "language_info": {
   "codemirror_mode": {
    "name": "ipython",
    "version": 3
   },
   "file_extension": ".py",
   "mimetype": "text/x-python",
   "name": "python",
   "nbconvert_exporter": "python",
   "pygments_lexer": "ipython3",
   "version": "3.6.7"
  }
 },
 "nbformat": 4,
 "nbformat_minor": 2
}
